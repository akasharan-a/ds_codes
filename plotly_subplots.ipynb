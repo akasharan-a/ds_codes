{
 "cells": [
  {
   "cell_type": "markdown",
   "metadata": {},
   "source": [
    "Plotly Subplots"
   ]
  },
  {
   "cell_type": "code",
   "execution_count": 1,
   "metadata": {},
   "outputs": [],
   "source": [
    "import pandas as pd \n",
    "import numpy as np \n",
    "\n",
    "from plotly.subplots import make_subplots\n",
    "import plotly.graph_objects as go"
   ]
  },
  {
   "cell_type": "code",
   "execution_count": null,
   "metadata": {},
   "outputs": [],
   "source": [
    "title='Title'\n",
    "df=pd.read_csv()\n",
    "tags=['A','B','C'] "
   ]
  },
  {
   "cell_type": "code",
   "execution_count": null,
   "metadata": {},
   "outputs": [],
   "source": [
    "fig=make_subplots(rows=len(tags),subplot_titles=tuple(tags),vertical_spacing=0.05)\n",
    "#fig=go.figure()\n",
    "for i , t in enumerate(tags[:]):\n",
    "    #fig=go.Figure() \n",
    "    fig.add_trace(go.Scatter(x=df['TIME'], y=df[t],name=t,mode='lines+markers')\n",
    "                  ,row=i+1,col=1) \n",
    "    fig['layout']['xaxis'+str(i+1)]['title']='TIME'\n",
    "    \n",
    "fig['layout']['xaxis'+str(i+1)]['showticklabels']=True\n",
    "\n",
    "\n",
    "fig.update_layout(title=title,\n",
    "                  hovermode='x unified',hoverlabel= dict(namelength = -1),\n",
    "                  autosize=False,\n",
    "                  width=1340, height = 300*len(tags),\n",
    "                  showlegend = False\n",
    "                  )\n",
    "fig.show()"
   ]
  },
  {
   "cell_type": "markdown",
   "metadata": {},
   "source": [
    "Secondary Axis"
   ]
  },
  {
   "cell_type": "code",
   "execution_count": null,
   "metadata": {},
   "outputs": [],
   "source": [
    "fig = make_subplots(specs=[[{\"secohdary_y\": True}]]) \n",
    "title1 = 'TTILE1'\n",
    "title2 = 'TTILE2'\n",
    "fig.add_trace(go.Scatter(x=df['TIME'], y=df['t1'], name='t1', mode= 'lines') , secondary_y=False) \n",
    "fig.add_trace(go.Scatter(x=df['TIME'], y=df['t2'], name='t2',mode='lines'),secondary_y=True) \n",
    "\n",
    "fig.update_xaxes(title_text='TIME') \n",
    "\n",
    "fig.update_yaxes(title_text=t1, secondary_y=False,showgrid=False)\n",
    "fig.update_yaxes(title_text=\"T2\", secondary_y=True,showgrid=True) \n",
    "\n",
    "fig.update_layout(title=title1,\n",
    "                  hovermode='x unified',hoverlabel= dict(namelength = -1),\n",
    "                  autosize=False,\n",
    "                  width=1340, height = 300*len(tags),\n",
    "                  showlegend = True,legend=dict(font=dict(size= 12),yanchor=\"top\",y=1.1, xanchor=\"left\",x=0.2,orientation='h')\n",
    "                  )\n",
    "fig.show()"
   ]
  },
  {
   "cell_type": "markdown",
   "metadata": {},
   "source": [
    "Multiple secondary axes"
   ]
  },
  {
   "cell_type": "code",
   "execution_count": null,
   "metadata": {},
   "outputs": [],
   "source": [
    "fig=go.Figure()\n",
    "\n",
    "t1='t1'\n",
    "t2='t2'\n",
    "t3='t3'\n",
    "\n",
    "##Primary axis\n",
    "fig.add_trace(go.Scatter(x=df['TIME'], y=df[t1], name=str(t1), mode= 'lines',linecolor='red')) \n",
    "\n",
    "##Secondary1 \n",
    "\n",
    "fig.add_trace(go.Scatter(x=df['TIME'], y=df[t2], name=str(t2), mode= 'lines',line=dict(color='blue',width=1,dash='longdashdot'),yaxis='y2')) \n",
    "\n",
    "##Secondary2\n",
    "\n",
    "fig.add_trace(go.Scatter(x=df['TIME'], y=df[t3], name=str(t3), mode= 'lines',line=dict(color='blue',width=1,dash='longdashdot'),yaxis='y3')) \n",
    "\n",
    "#######\n",
    "\n",
    "fig.update_layout(title='Title',xaxis_title='TIME',yaxis_title=str(t1),\n",
    "                  xaxis=dict(tickvals=ts,ticktext=ts,domain=[0, 0.94]),\n",
    "                  \n",
    "                  yaxis=dict(title=str(t1),titlefont=dict(color='black'),tickfont=dict(color='black')),\n",
    "                  \n",
    "                  yaxis2=dict(title=str(t2),range=[-0.5,50],titlefont=dict(color='black'),tickfont=dict(color='black')\n",
    "                              anchor='free',overlaying='y',side='right',postion=0.94,showgrid=False),\n",
    "                  \n",
    "                  yaxis3=dict(title=str(t3),range=[-0.5,50],titlefont=dict(color='black'),tickfont=dict(color='black')\n",
    "                              anchor='free',overlaying='y',side='right',postion=1,showgrid=False),\n",
    "                  \n",
    "                  hovermode='x unified',hoverlabel= dict(namelength = -1),\n",
    "                  showlegend = True,legend=dict(font=dict(size= 12),yanchor=\"top\",y=1.1, xanchor=\"left\",x=0.2,orientation='h')\n",
    "                  \n",
    "                  )"
   ]
  },
  {
   "cell_type": "markdown",
   "metadata": {},
   "source": [
    "Subplots with secondary axis and color scale"
   ]
  },
  {
   "cell_type": "code",
   "execution_count": null,
   "metadata": {},
   "outputs": [],
   "source": [
    "from plotly.subplots import makesubplots \n",
    "import plotly.graph_objects as go \n",
    "xtag = 'x'\n",
    "ytag1= 'y1'\n",
    "ytag2= 'y2'\n",
    "ytag3= 'y3'\n",
    "ytag4= 'y4'\n",
    "\n",
    "rows,cols=2,2 \n",
    "\n",
    "count=4\n",
    "\n",
    "title= 'Subplots with secondary axis and color scale'"
   ]
  },
  {
   "cell_type": "code",
   "execution_count": null,
   "metadata": {},
   "outputs": [],
   "source": [
    "fig = make_subplots(cols=cols, rows=rows, shared_xaxes= 'all' , shared_yaxes= 'all' , subplot_titles=tuple(names),\n",
    "                    column_widths=[200,200], rowheights=[200,200],vertical_spacing=0.05, horizontal_spacing=0.06) \n",
    "r,c,i,sl = 1,1,1,True \n",
    "\n",
    "for nm,grp in df.groupby('bins'):\n",
    "    print(nm) \n",
    "    fig.add_trace(go. Scatter(x=grp[xtag], y=grp [ytag1], name=ytag1,mode='markers' ,marker={'size':10,'color':grp[ytag3], 'coloraxis' :\"coloraxisl\"}, \n",
    "                                customdata=grp[tags], \n",
    "                                hovertemplate=\"Time: %{customdata[0]}<br>\"+ytag3+\": %{customdata[1]:.2f}<br>\"+xtag+\": %{x:.3f}<br>\"+ytag1+\": %{y:.3f}<br>\"+ytag4+\n",
    "                                \": %{customdata[2]:.3f }\", legendgroup=ytag1, showlegend=sl), row=r,col=c) \n",
    "    \n",
    "    fig.add_trace(go. Scatter(x=grp[xtag], y=grp [ytag2], name=ytag1,mode='markers' ,marker_symbol='star',marker={'size':10,'color':grp[ytag3], 'coloraxis' :\"coloraxisl\"}, \n",
    "                                customdata=grp[tags], \n",
    "                                hovertemplate=\"Time: %{customdata[0]}<br>\"+ytag3+\": %{customdata[1]:.2f}<br>\"+xtag+\": %{x:.3f}<br>\"+ytag1+\": %{y:.3f}<br>\"+ytag4+\n",
    "                                \": %{customdata[2]:.3f }\", legendgroup=ytag1, showlegend=sl,xaxis='x'+str(i),yaxis='y'+str(count+i)))\n",
    "    \n",
    "    print(f\"xaxis= x{str(i)},yaxis=y{str(count+i)}\") \n",
    "    \n",
    "    if c==cols:r , c=r+1,1\n",
    "    else:c+=1 \n",
    "    i+=i \n",
    "    sl=False \n",
    "    #fig[‘layout'][’xaxis'+str(i+l)][‘showticklabels’]=True \n",
    "    #xf,yf,trend=power_fit(grpfxtag],grp[t]) \n",
    "    #fig.add_trace(go.Scatter(x=xf,y= yf,name=trend,mode=’lines',hovertemplate=\"Trend:\"),row=l, col=i+l)  \n",
    "    \n",
    "\n",
    "fig.update_annotations(font_size=12) \n",
    "fig.update_coloraxes(colorbar_title=ytag3,colorscale='bluered') \n",
    "\n",
    "fig.update_layout(title-title, hoverlabel = dict(namelength = -1),coloraxis_colorbar_x=1.05, \n",
    "                    legend=dict(font=dict(size= 12),yanchor=\"top\",y=1.1, xanchor=\"left\",x=0.2,orientation='h'))\n",
    "\n",
    "for j in range(1,count+1): \n",
    "    print(f\"yaxis {str (count+j)} x{str(j)}\") \n",
    "    fig.layout[\"yaxis\"+str(count+j)] = {} \n",
    "    \n",
    "    fig.layout[\"yaxis\" +str(count+j)][\"anchor\"]=\"x\"+str(j)\n",
    "    fig.layout[\"yaxis\"+str(count+j)]['overlaying']=\"y\"+str(j)     \n",
    "    fig.layout[\"yaxis\"+str(count+j)]['side']=\"right\"\n",
    "    fig.layout[\"yaxis\"+str(count+j)]['position']=1\n",
    "    fig.layout[\"yaxis\"+str(count+j)]['showgrid']=False\n",
    "\n",
    "\n",
    "    if j%2==1: \n",
    "        fig.layout['yaxis'+str(count+j)]['showticklabels']=False \n",
    "\n",
    "    else: \n",
    "        fig.layout['yaxis'+str(count+j) ] ['showticklabels']=True     \n",
    "\n",
    "cf= {'displaylogo':False, 'modeBarButtonsToAdd': ['toggleSpikelines']} \n",
    "fig.show(config=cf) \n"
   ]
  }
 ],
 "metadata": {
  "kernelspec": {
   "display_name": "Python 3.9.0 ('PyVenv': venv)",
   "language": "python",
   "name": "python3"
  },
  "language_info": {
   "codemirror_mode": {
    "name": "ipython",
    "version": 3
   },
   "file_extension": ".py",
   "mimetype": "text/x-python",
   "name": "python",
   "nbconvert_exporter": "python",
   "pygments_lexer": "ipython3",
   "version": "3.9.0"
  },
  "orig_nbformat": 4,
  "vscode": {
   "interpreter": {
    "hash": "b0107d3fedde6c90008f69b10c4ab354af7d210275e37a1d5fec8709d07c7bdf"
   }
  }
 },
 "nbformat": 4,
 "nbformat_minor": 2
}
